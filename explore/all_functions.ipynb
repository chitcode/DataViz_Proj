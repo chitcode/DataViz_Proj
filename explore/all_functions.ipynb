{
 "cells": [
  {
   "cell_type": "code",
   "execution_count": 9,
   "metadata": {},
   "outputs": [],
   "source": [
    "import numpy as np\n",
    "import pandas as pd\n",
    "import pprint\n",
    "import json"
   ]
  },
  {
   "cell_type": "code",
   "execution_count": 2,
   "metadata": {},
   "outputs": [],
   "source": [
    "data_csv = pd.read_csv('../data/all-nodes.csv')"
   ]
  },
  {
   "cell_type": "code",
   "execution_count": 3,
   "metadata": {},
   "outputs": [
    {
     "name": "stdout",
     "output_type": "stream",
     "text": [
      "1\n",
      "45\n",
      "46\n",
      "47\n",
      "48\n"
     ]
    }
   ],
   "source": [
    "def all_children(id):\n",
    "    while id != None:\n",
    "        print(id)\n",
    "        children = eval(list(data_csv.children[data_csv.id == id])[0])\n",
    "        if len(children) > 0:\n",
    "            id = children[0]\n",
    "        else:\n",
    "            break\n",
    "            \n",
    "all_children(1)"
   ]
  },
  {
   "cell_type": "code",
   "execution_count": 52,
   "metadata": {},
   "outputs": [],
   "source": [
    "def find_all_ancestors(id):\n",
    "    \n",
    "    child = None\n",
    "    while id != None:\n",
    "        cat_name = data_csv.name[data_csv.id == id].values[0]\n",
    "        parent_id = data_csv.parent[data_csv.id == id].values[0]\n",
    "        productCount = data_csv.subtreeProductCount[data_csv.id == id].values[0]\n",
    "        \n",
    "        ancestors = {}\n",
    "        ancestors['id'] = int(id)\n",
    "        ancestors['key'] = cat_name\n",
    "        ancestors['value'] = int(productCount)\n",
    "        ancestors['children'] = [child]\n",
    "        child = ancestors\n",
    "        print(id,cat_name)\n",
    "        id = parent_id\n",
    "        if id == 0:\n",
    "            print(id,'root')\n",
    "            ancestors = {}\n",
    "            ancestors['id'] = 0\n",
    "            ancestors['key'] = 'root'\n",
    "            ancestors['value'] = int(0)\n",
    "            ancestors['children'] = [child]\n",
    "            return ancestors\n",
    "            break"
   ]
  },
  {
   "cell_type": "code",
   "execution_count": 46,
   "metadata": {},
   "outputs": [
    {
     "ename": "SyntaxError",
     "evalue": "invalid syntax (<ipython-input-46-2dc020fd9878>, line 3)",
     "output_type": "error",
     "traceback": [
      "\u001b[0;36m  File \u001b[0;32m\"<ipython-input-46-2dc020fd9878>\"\u001b[0;36m, line \u001b[0;32m3\u001b[0m\n\u001b[0;31m    if trees not None and len(trees) > 0:\u001b[0m\n\u001b[0m                    ^\u001b[0m\n\u001b[0;31mSyntaxError\u001b[0m\u001b[0;31m:\u001b[0m invalid syntax\n"
     ]
    }
   ],
   "source": [
    "def merge_trees(trees):\n",
    "    main_tree = None\n",
    "    if trees not None and len(trees) > 0:\n",
    "        for tree in trees:\n",
    "            while len(tree['children']) > 0:\n",
    "                if len(main_tree.keys()) == 0:\n",
    "                    main_tree = tree\n",
    "                    break\n",
    "                else:\n",
    "                    "
   ]
  },
  {
   "cell_type": "code",
   "execution_count": 53,
   "metadata": {},
   "outputs": [],
   "source": [
    "def find_all_hierarchy(cat_name):\n",
    "    all_hierarchy = []\n",
    "    all_cat_ids = data_csv.id.loc[data_csv.name == cat_name].values\n",
    "    for cat_id in all_cat_ids:\n",
    "        hierarchy = find_all_ancestors(cat_id)\n",
    "        all_hierarchy.append(hierarchy)\n",
    "        print(\"#####\"*20)\n",
    "    return json.dumps(all_hierarchy)"
   ]
  },
  {
   "cell_type": "code",
   "execution_count": 54,
   "metadata": {},
   "outputs": [
    {
     "name": "stdout",
     "output_type": "stream",
     "text": [
      "7519 Boots\n",
      "1417 Shoes\n",
      "237 Men\n",
      "4 Clothing, Shoes & Jewelry\n",
      "0 root\n",
      "####################################################################################################\n",
      "7520 Boots\n",
      "7480 Shoes\n",
      "7479 Surf, Skate & Street\n",
      "237 Men\n",
      "4 Clothing, Shoes & Jewelry\n",
      "0 root\n",
      "####################################################################################################\n",
      "8194 Boots\n",
      "8193 Shoes\n",
      "1538 Boys\n",
      "4 Clothing, Shoes & Jewelry\n",
      "0 root\n",
      "####################################################################################################\n",
      "8326 Boots\n",
      "5066 Shoes\n",
      "5 Girls\n",
      "4 Clothing, Shoes & Jewelry\n",
      "0 root\n",
      "####################################################################################################\n",
      "8498 Boots\n",
      "1648 Shoes\n",
      "231 Women\n",
      "4 Clothing, Shoes & Jewelry\n",
      "0 root\n",
      "####################################################################################################\n",
      "9525 Boots\n",
      "2062 Downhill Skiing\n",
      "2061 Skiing\n",
      "2060 Snow Sports\n",
      "10 Sports & Outdoors\n",
      "0 root\n",
      "####################################################################################################\n",
      "9854 Boots\n",
      "6065 Cross-Country Skiing\n",
      "2061 Skiing\n",
      "2060 Snow Sports\n",
      "10 Sports & Outdoors\n",
      "0 root\n",
      "####################################################################################################\n",
      "11146 Boots\n",
      "4084 Clutches & Parts\n",
      "4083 Transmission & Drive Train\n",
      "739 Replacement Parts\n",
      "107 Automotive\n",
      "0 root\n",
      "####################################################################################################\n",
      "11252 Boots\n",
      "11251 Clutches & Parts\n",
      "11162 Drive Train\n",
      "8922 Performance Parts & Accessories\n",
      "107 Automotive\n",
      "0 root\n",
      "####################################################################################################\n",
      "12239 Boots\n",
      "12238 Boots & Wraps\n",
      "4135 Horses\n",
      "356 Pet Supplies\n",
      "0 root\n",
      "####################################################################################################\n",
      "14410 Boots\n",
      "14409 Footwear\n",
      "1680 Protective Gear\n",
      "422 Motorcycle & Powersports\n",
      "107 Automotive\n",
      "0 root\n",
      "####################################################################################################\n",
      "14470 Boots\n",
      "7794 Shoes\n",
      "996 Baby Boys\n",
      "992 Baby\n",
      "4 Clothing, Shoes & Jewelry\n",
      "0 root\n",
      "####################################################################################################\n",
      "14847 Boots\n",
      "7792 Shoes\n",
      "993 Baby Girls\n",
      "992 Baby\n",
      "4 Clothing, Shoes & Jewelry\n",
      "0 root\n",
      "####################################################################################################\n",
      "14919 Boots\n",
      "12540 Telemark Skiing\n",
      "2061 Skiing\n",
      "2060 Snow Sports\n",
      "10 Sports & Outdoors\n",
      "0 root\n",
      "####################################################################################################\n",
      "17842 Boots\n",
      "17190 Motorcycle & ATV Casual Footwear\n",
      "4 Clothing, Shoes & Jewelry\n",
      "0 root\n",
      "####################################################################################################\n",
      "18467 Boots\n",
      "8025 Snowboarding\n",
      "2060 Snow Sports\n",
      "10 Sports & Outdoors\n",
      "0 root\n",
      "####################################################################################################\n",
      "19070 Boots\n",
      "14945 WF Inheritance Test Women's CK Custom Store\n",
      "4 Clothing, Shoes & Jewelry\n",
      "0 root\n",
      "####################################################################################################\n",
      "26798 Boots\n",
      "11333 Boots & Paw Protectors\n",
      "6738 Apparel & Accessories\n",
      "357 Dogs\n",
      "356 Pet Supplies\n",
      "0 root\n",
      "####################################################################################################\n",
      "29174 Boots\n",
      "26721 Alpine Touring\n",
      "2061 Skiing\n",
      "2060 Snow Sports\n",
      "10 Sports & Outdoors\n",
      "0 root\n",
      "####################################################################################################\n"
     ]
    },
    {
     "data": {
      "text/plain": [
       "'[{\"id\": 0, \"key\": \"root\", \"value\": 0, \"children\": [{\"id\": 4, \"key\": \"Clothing, Shoes & Jewelry\", \"value\": 1503384, \"children\": [{\"id\": 237, \"key\": \"Men\", \"value\": 371334, \"children\": [{\"id\": 1417, \"key\": \"Shoes\", \"value\": 95218, \"children\": [{\"id\": 7519, \"key\": \"Boots\", \"value\": 13991, \"children\": [null]}]}]}]}]}, {\"id\": 0, \"key\": \"root\", \"value\": 0, \"children\": [{\"id\": 4, \"key\": \"Clothing, Shoes & Jewelry\", \"value\": 1503384, \"children\": [{\"id\": 237, \"key\": \"Men\", \"value\": 371334, \"children\": [{\"id\": 7479, \"key\": \"Surf, Skate & Street\", \"value\": 27727, \"children\": [{\"id\": 7480, \"key\": \"Shoes\", \"value\": 9158, \"children\": [{\"id\": 7520, \"key\": \"Boots\", \"value\": 1287, \"children\": [null]}]}]}]}]}]}, {\"id\": 0, \"key\": \"root\", \"value\": 0, \"children\": [{\"id\": 4, \"key\": \"Clothing, Shoes & Jewelry\", \"value\": 1503384, \"children\": [{\"id\": 1538, \"key\": \"Boys\", \"value\": 60338, \"children\": [{\"id\": 8193, \"key\": \"Shoes\", \"value\": 16831, \"children\": [{\"id\": 8194, \"key\": \"Boots\", \"value\": 3119, \"children\": [null]}]}]}]}]}, {\"id\": 0, \"key\": \"root\", \"value\": 0, \"children\": [{\"id\": 4, \"key\": \"Clothing, Shoes & Jewelry\", \"value\": 1503384, \"children\": [{\"id\": 5, \"key\": \"Girls\", \"value\": 78291, \"children\": [{\"id\": 5066, \"key\": \"Shoes\", \"value\": 21518, \"children\": [{\"id\": 8326, \"key\": \"Boots\", \"value\": 4510, \"children\": [null]}]}]}]}]}, {\"id\": 0, \"key\": \"root\", \"value\": 0, \"children\": [{\"id\": 4, \"key\": \"Clothing, Shoes & Jewelry\", \"value\": 1503384, \"children\": [{\"id\": 231, \"key\": \"Women\", \"value\": 837929, \"children\": [{\"id\": 1648, \"key\": \"Shoes\", \"value\": 245248, \"children\": [{\"id\": 8498, \"key\": \"Boots\", \"value\": 58526, \"children\": [null]}]}]}]}]}, {\"id\": 0, \"key\": \"root\", \"value\": 0, \"children\": [{\"id\": 10, \"key\": \"Sports & Outdoors\", \"value\": 532197, \"children\": [{\"id\": 2060, \"key\": \"Snow Sports\", \"value\": 11966, \"children\": [{\"id\": 2061, \"key\": \"Skiing\", \"value\": 8355, \"children\": [{\"id\": 2062, \"key\": \"Downhill Skiing\", \"value\": 463, \"children\": [{\"id\": 9525, \"key\": \"Boots\", \"value\": 125, \"children\": [null]}]}]}]}]}]}, {\"id\": 0, \"key\": \"root\", \"value\": 0, \"children\": [{\"id\": 10, \"key\": \"Sports & Outdoors\", \"value\": 532197, \"children\": [{\"id\": 2060, \"key\": \"Snow Sports\", \"value\": 11966, \"children\": [{\"id\": 2061, \"key\": \"Skiing\", \"value\": 8355, \"children\": [{\"id\": 6065, \"key\": \"Cross-Country Skiing\", \"value\": 154, \"children\": [{\"id\": 9854, \"key\": \"Boots\", \"value\": 71, \"children\": [null]}]}]}]}]}]}, {\"id\": 0, \"key\": \"root\", \"value\": 0, \"children\": [{\"id\": 107, \"key\": \"Automotive\", \"value\": 331090, \"children\": [{\"id\": 739, \"key\": \"Replacement Parts\", \"value\": 81121, \"children\": [{\"id\": 4083, \"key\": \"Transmission & Drive Train\", \"value\": 2950, \"children\": [{\"id\": 4084, \"key\": \"Clutches & Parts\", \"value\": 803, \"children\": [{\"id\": 11146, \"key\": \"Boots\", \"value\": 75, \"children\": [null]}]}]}]}]}]}, {\"id\": 0, \"key\": \"root\", \"value\": 0, \"children\": [{\"id\": 107, \"key\": \"Automotive\", \"value\": 331090, \"children\": [{\"id\": 8922, \"key\": \"Performance Parts & Accessories\", \"value\": 22537, \"children\": [{\"id\": 11162, \"key\": \"Drive Train\", \"value\": 941, \"children\": [{\"id\": 11251, \"key\": \"Clutches & Parts\", \"value\": 388, \"children\": [{\"id\": 11252, \"key\": \"Boots\", \"value\": 22, \"children\": [null]}]}]}]}]}]}, {\"id\": 0, \"key\": \"root\", \"value\": 0, \"children\": [{\"id\": 356, \"key\": \"Pet Supplies\", \"value\": 110707, \"children\": [{\"id\": 4135, \"key\": \"Horses\", \"value\": 2424, \"children\": [{\"id\": 12238, \"key\": \"Boots & Wraps\", \"value\": 205, \"children\": [{\"id\": 12239, \"key\": \"Boots\", \"value\": 197, \"children\": [null]}]}]}]}]}, {\"id\": 0, \"key\": \"root\", \"value\": 0, \"children\": [{\"id\": 107, \"key\": \"Automotive\", \"value\": 331090, \"children\": [{\"id\": 422, \"key\": \"Motorcycle & Powersports\", \"value\": 47699, \"children\": [{\"id\": 1680, \"key\": \"Protective Gear\", \"value\": 17169, \"children\": [{\"id\": 14409, \"key\": \"Footwear\", \"value\": 883, \"children\": [{\"id\": 14410, \"key\": \"Boots\", \"value\": 609, \"children\": [null]}]}]}]}]}]}, {\"id\": 0, \"key\": \"root\", \"value\": 0, \"children\": [{\"id\": 4, \"key\": \"Clothing, Shoes & Jewelry\", \"value\": 1503384, \"children\": [{\"id\": 992, \"key\": \"Baby\", \"value\": 43271, \"children\": [{\"id\": 996, \"key\": \"Baby Boys\", \"value\": 19622, \"children\": [{\"id\": 7794, \"key\": \"Shoes\", \"value\": 1172, \"children\": [{\"id\": 14470, \"key\": \"Boots\", \"value\": 134, \"children\": [null]}]}]}]}]}]}, {\"id\": 0, \"key\": \"root\", \"value\": 0, \"children\": [{\"id\": 4, \"key\": \"Clothing, Shoes & Jewelry\", \"value\": 1503384, \"children\": [{\"id\": 992, \"key\": \"Baby\", \"value\": 43271, \"children\": [{\"id\": 993, \"key\": \"Baby Girls\", \"value\": 28667, \"children\": [{\"id\": 7792, \"key\": \"Shoes\", \"value\": 1700, \"children\": [{\"id\": 14847, \"key\": \"Boots\", \"value\": 212, \"children\": [null]}]}]}]}]}]}, {\"id\": 0, \"key\": \"root\", \"value\": 0, \"children\": [{\"id\": 10, \"key\": \"Sports & Outdoors\", \"value\": 532197, \"children\": [{\"id\": 2060, \"key\": \"Snow Sports\", \"value\": 11966, \"children\": [{\"id\": 2061, \"key\": \"Skiing\", \"value\": 8355, \"children\": [{\"id\": 12540, \"key\": \"Telemark Skiing\", \"value\": 26, \"children\": [{\"id\": 14919, \"key\": \"Boots\", \"value\": 22, \"children\": [null]}]}]}]}]}]}, {\"id\": 0, \"key\": \"root\", \"value\": 0, \"children\": [{\"id\": 4, \"key\": \"Clothing, Shoes & Jewelry\", \"value\": 1503384, \"children\": [{\"id\": 17190, \"key\": \"Motorcycle & ATV Casual Footwear\", \"value\": 1673, \"children\": [{\"id\": 17842, \"key\": \"Boots\", \"value\": 103, \"children\": [null]}]}]}]}, {\"id\": 0, \"key\": \"root\", \"value\": 0, \"children\": [{\"id\": 10, \"key\": \"Sports & Outdoors\", \"value\": 532197, \"children\": [{\"id\": 2060, \"key\": \"Snow Sports\", \"value\": 11966, \"children\": [{\"id\": 8025, \"key\": \"Snowboarding\", \"value\": 2399, \"children\": [{\"id\": 18467, \"key\": \"Boots\", \"value\": 173, \"children\": [null]}]}]}]}]}, {\"id\": 0, \"key\": \"root\", \"value\": 0, \"children\": [{\"id\": 4, \"key\": \"Clothing, Shoes & Jewelry\", \"value\": 1503384, \"children\": [{\"id\": 14945, \"key\": \"WF Inheritance Test Women\\'s CK Custom Store\", \"value\": 907, \"children\": [{\"id\": 19070, \"key\": \"Boots\", \"value\": 174, \"children\": [null]}]}]}]}, {\"id\": 0, \"key\": \"root\", \"value\": 0, \"children\": [{\"id\": 356, \"key\": \"Pet Supplies\", \"value\": 110707, \"children\": [{\"id\": 357, \"key\": \"Dogs\", \"value\": 72403, \"children\": [{\"id\": 6738, \"key\": \"Apparel & Accessories\", \"value\": 9919, \"children\": [{\"id\": 11333, \"key\": \"Boots & Paw Protectors\", \"value\": 933, \"children\": [{\"id\": 26798, \"key\": \"Boots\", \"value\": 5, \"children\": [null]}]}]}]}]}]}, {\"id\": 0, \"key\": \"root\", \"value\": 0, \"children\": [{\"id\": 10, \"key\": \"Sports & Outdoors\", \"value\": 532197, \"children\": [{\"id\": 2060, \"key\": \"Snow Sports\", \"value\": 11966, \"children\": [{\"id\": 2061, \"key\": \"Skiing\", \"value\": 8355, \"children\": [{\"id\": 26721, \"key\": \"Alpine Touring\", \"value\": 25, \"children\": [{\"id\": 29174, \"key\": \"Boots\", \"value\": 1, \"children\": [null]}]}]}]}]}]}]'"
      ]
     },
     "execution_count": 54,
     "metadata": {},
     "output_type": "execute_result"
    }
   ],
   "source": [
    "find_all_hierarchy('Boots')"
   ]
  }
 ],
 "metadata": {
  "kernelspec": {
   "display_name": "Python 3",
   "language": "python",
   "name": "python3"
  },
  "language_info": {
   "codemirror_mode": {
    "name": "ipython",
    "version": 3
   },
   "file_extension": ".py",
   "mimetype": "text/x-python",
   "name": "python",
   "nbconvert_exporter": "python",
   "pygments_lexer": "ipython3",
   "version": "3.7.3"
  }
 },
 "nbformat": 4,
 "nbformat_minor": 4
}
