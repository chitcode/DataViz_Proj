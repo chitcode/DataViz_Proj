{
 "cells": [
  {
   "cell_type": "code",
   "execution_count": 2,
   "metadata": {},
   "outputs": [],
   "source": [
    "import matplotlib.pyplot as plt\n",
    "import numpy as np\n",
    "import pandas as pd\n",
    "import pickle\n",
    "\n",
    "import pprint"
   ]
  },
  {
   "cell_type": "code",
   "execution_count": 3,
   "metadata": {},
   "outputs": [
    {
     "ename": "ModuleNotFoundError",
     "evalue": "No module named 'CS765'",
     "output_type": "error",
     "traceback": [
      "\u001b[0;31m---------------------------------------------------------------------------\u001b[0m",
      "\u001b[0;31mModuleNotFoundError\u001b[0m                       Traceback (most recent call last)",
      "\u001b[0;32m<ipython-input-3-d88d6c2a43ac>\u001b[0m in \u001b[0;36m<module>\u001b[0;34m\u001b[0m\n\u001b[1;32m      1\u001b[0m \u001b[0mdata_tree\u001b[0m \u001b[0;34m=\u001b[0m \u001b[0;34m{\u001b[0m\u001b[0;34m}\u001b[0m\u001b[0;34m\u001b[0m\u001b[0;34m\u001b[0m\u001b[0m\n\u001b[1;32m      2\u001b[0m \u001b[0;32mwith\u001b[0m \u001b[0mopen\u001b[0m\u001b[0;34m(\u001b[0m\u001b[0;34m'../data/all-tree.pickle'\u001b[0m\u001b[0;34m,\u001b[0m\u001b[0;34m'rb'\u001b[0m\u001b[0;34m)\u001b[0m \u001b[0;32mas\u001b[0m \u001b[0mf\u001b[0m\u001b[0;34m:\u001b[0m\u001b[0;34m\u001b[0m\u001b[0;34m\u001b[0m\u001b[0m\n\u001b[0;32m----> 3\u001b[0;31m     \u001b[0mdata_tree\u001b[0m \u001b[0;34m=\u001b[0m \u001b[0mpickle\u001b[0m\u001b[0;34m.\u001b[0m\u001b[0mload\u001b[0m\u001b[0;34m(\u001b[0m\u001b[0mf\u001b[0m\u001b[0;34m)\u001b[0m\u001b[0;34m\u001b[0m\u001b[0;34m\u001b[0m\u001b[0m\n\u001b[0m\u001b[1;32m      4\u001b[0m \u001b[0;31m#     data_tree = unpickler.load()\u001b[0m\u001b[0;34m\u001b[0m\u001b[0;34m\u001b[0m\u001b[0;34m\u001b[0m\u001b[0m\n",
      "\u001b[0;31mModuleNotFoundError\u001b[0m: No module named 'CS765'"
     ]
    }
   ],
   "source": [
    "data_tree = {}\n",
    "with open('../data/all-tree.pickle','rb') as f:\n",
    "    data_tree = pickle.load(f)\n",
    "#     data_tree = unpickler.load()"
   ]
  },
  {
   "cell_type": "code",
   "execution_count": 4,
   "metadata": {},
   "outputs": [
    {
     "data": {
      "text/html": [
       "<div>\n",
       "<style scoped>\n",
       "    .dataframe tbody tr th:only-of-type {\n",
       "        vertical-align: middle;\n",
       "    }\n",
       "\n",
       "    .dataframe tbody tr th {\n",
       "        vertical-align: top;\n",
       "    }\n",
       "\n",
       "    .dataframe thead th {\n",
       "        text-align: right;\n",
       "    }\n",
       "</style>\n",
       "<table border=\"1\" class=\"dataframe\">\n",
       "  <thead>\n",
       "    <tr style=\"text-align: right;\">\n",
       "      <th></th>\n",
       "      <th>id</th>\n",
       "      <th>name</th>\n",
       "      <th>productCount</th>\n",
       "      <th>subtreeProductCount</th>\n",
       "      <th>parent</th>\n",
       "      <th>numChildren</th>\n",
       "      <th>pathName</th>\n",
       "      <th>children</th>\n",
       "      <th>alsoCount</th>\n",
       "      <th>also</th>\n",
       "    </tr>\n",
       "  </thead>\n",
       "  <tbody>\n",
       "    <tr>\n",
       "      <td>0</td>\n",
       "      <td>0</td>\n",
       "      <td>root</td>\n",
       "      <td>0</td>\n",
       "      <td>9354832</td>\n",
       "      <td>0</td>\n",
       "      <td>85</td>\n",
       "      <td>[]</td>\n",
       "      <td>[1, 2, 4, 10, 19, 22, 30, 34, 41, 44, 55, 60, ...</td>\n",
       "      <td>0</td>\n",
       "      <td>[]</td>\n",
       "    </tr>\n",
       "    <tr>\n",
       "      <td>1</td>\n",
       "      <td>1</td>\n",
       "      <td>Books</td>\n",
       "      <td>1940253</td>\n",
       "      <td>2370585</td>\n",
       "      <td>0</td>\n",
       "      <td>32</td>\n",
       "      <td>['Books']</td>\n",
       "      <td>[45, 49, 52, 111, 118, 123, 134, 142, 155, 185...</td>\n",
       "      <td>0</td>\n",
       "      <td>[]</td>\n",
       "    </tr>\n",
       "    <tr>\n",
       "      <td>2</td>\n",
       "      <td>2</td>\n",
       "      <td>Movies &amp; TV</td>\n",
       "      <td>1251</td>\n",
       "      <td>208321</td>\n",
       "      <td>0</td>\n",
       "      <td>2</td>\n",
       "      <td>['Movies &amp; TV']</td>\n",
       "      <td>[3, 27]</td>\n",
       "      <td>0</td>\n",
       "      <td>[]</td>\n",
       "    </tr>\n",
       "    <tr>\n",
       "      <td>3</td>\n",
       "      <td>3</td>\n",
       "      <td>Movies</td>\n",
       "      <td>142126</td>\n",
       "      <td>142126</td>\n",
       "      <td>2</td>\n",
       "      <td>0</td>\n",
       "      <td>['Movies &amp; TV', 'Movies']</td>\n",
       "      <td>[]</td>\n",
       "      <td>428</td>\n",
       "      <td>[(27, 591), (28, 552), (164, 526), (294, 341),...</td>\n",
       "    </tr>\n",
       "    <tr>\n",
       "      <td>4</td>\n",
       "      <td>4</td>\n",
       "      <td>Clothing, Shoes &amp; Jewelry</td>\n",
       "      <td>0</td>\n",
       "      <td>1503384</td>\n",
       "      <td>0</td>\n",
       "      <td>225</td>\n",
       "      <td>['Clothing, Shoes &amp; Jewelry']</td>\n",
       "      <td>[5, 6, 231, 237, 379, 992, 1538, 1646, 1647, 1...</td>\n",
       "      <td>0</td>\n",
       "      <td>[]</td>\n",
       "    </tr>\n",
       "  </tbody>\n",
       "</table>\n",
       "</div>"
      ],
      "text/plain": [
       "   id                       name  productCount  subtreeProductCount  parent  \\\n",
       "0   0                       root             0              9354832       0   \n",
       "1   1                      Books       1940253              2370585       0   \n",
       "2   2                Movies & TV          1251               208321       0   \n",
       "3   3                     Movies        142126               142126       2   \n",
       "4   4  Clothing, Shoes & Jewelry             0              1503384       0   \n",
       "\n",
       "   numChildren                       pathName  \\\n",
       "0           85                             []   \n",
       "1           32                      ['Books']   \n",
       "2            2                ['Movies & TV']   \n",
       "3            0      ['Movies & TV', 'Movies']   \n",
       "4          225  ['Clothing, Shoes & Jewelry']   \n",
       "\n",
       "                                            children  alsoCount  \\\n",
       "0  [1, 2, 4, 10, 19, 22, 30, 34, 41, 44, 55, 60, ...          0   \n",
       "1  [45, 49, 52, 111, 118, 123, 134, 142, 155, 185...          0   \n",
       "2                                            [3, 27]          0   \n",
       "3                                                 []        428   \n",
       "4  [5, 6, 231, 237, 379, 992, 1538, 1646, 1647, 1...          0   \n",
       "\n",
       "                                                also  \n",
       "0                                                 []  \n",
       "1                                                 []  \n",
       "2                                                 []  \n",
       "3  [(27, 591), (28, 552), (164, 526), (294, 341),...  \n",
       "4                                                 []  "
      ]
     },
     "execution_count": 4,
     "metadata": {},
     "output_type": "execute_result"
    }
   ],
   "source": [
    "data_csv = pd.read_csv('../data/all-nodes.csv')\n",
    "data_csv.head()"
   ]
  },
  {
   "cell_type": "code",
   "execution_count": 5,
   "metadata": {},
   "outputs": [
    {
     "data": {
      "text/html": [
       "<div>\n",
       "<style scoped>\n",
       "    .dataframe tbody tr th:only-of-type {\n",
       "        vertical-align: middle;\n",
       "    }\n",
       "\n",
       "    .dataframe tbody tr th {\n",
       "        vertical-align: top;\n",
       "    }\n",
       "\n",
       "    .dataframe thead th {\n",
       "        text-align: right;\n",
       "    }\n",
       "</style>\n",
       "<table border=\"1\" class=\"dataframe\">\n",
       "  <thead>\n",
       "    <tr style=\"text-align: right;\">\n",
       "      <th></th>\n",
       "      <th>id</th>\n",
       "      <th>name</th>\n",
       "      <th>productCount</th>\n",
       "      <th>subtreeProductCount</th>\n",
       "      <th>parent</th>\n",
       "      <th>numChildren</th>\n",
       "      <th>pathName</th>\n",
       "      <th>children</th>\n",
       "      <th>alsoCount</th>\n",
       "      <th>also</th>\n",
       "    </tr>\n",
       "  </thead>\n",
       "  <tbody>\n",
       "    <tr>\n",
       "      <td>0</td>\n",
       "      <td>0</td>\n",
       "      <td>root</td>\n",
       "      <td>0</td>\n",
       "      <td>9354832</td>\n",
       "      <td>0</td>\n",
       "      <td>85</td>\n",
       "      <td>[]</td>\n",
       "      <td>[1, 2, 4, 10, 19, 22, 30, 34, 41, 44, 55, 60, ...</td>\n",
       "      <td>0</td>\n",
       "      <td>[]</td>\n",
       "    </tr>\n",
       "    <tr>\n",
       "      <td>1</td>\n",
       "      <td>1</td>\n",
       "      <td>Books</td>\n",
       "      <td>1940253</td>\n",
       "      <td>2370585</td>\n",
       "      <td>0</td>\n",
       "      <td>32</td>\n",
       "      <td>['Books']</td>\n",
       "      <td>[45, 49, 52, 111, 118, 123, 134, 142, 155, 185...</td>\n",
       "      <td>0</td>\n",
       "      <td>[]</td>\n",
       "    </tr>\n",
       "    <tr>\n",
       "      <td>2</td>\n",
       "      <td>2</td>\n",
       "      <td>Movies &amp; TV</td>\n",
       "      <td>1251</td>\n",
       "      <td>208321</td>\n",
       "      <td>0</td>\n",
       "      <td>2</td>\n",
       "      <td>['Movies &amp; TV']</td>\n",
       "      <td>[3, 27]</td>\n",
       "      <td>0</td>\n",
       "      <td>[]</td>\n",
       "    </tr>\n",
       "    <tr>\n",
       "      <td>3</td>\n",
       "      <td>3</td>\n",
       "      <td>Movies</td>\n",
       "      <td>142126</td>\n",
       "      <td>142126</td>\n",
       "      <td>2</td>\n",
       "      <td>0</td>\n",
       "      <td>['Movies &amp; TV', 'Movies']</td>\n",
       "      <td>[]</td>\n",
       "      <td>428</td>\n",
       "      <td>[(27, 591), (28, 552), (164, 526), (294, 341),...</td>\n",
       "    </tr>\n",
       "    <tr>\n",
       "      <td>4</td>\n",
       "      <td>4</td>\n",
       "      <td>Clothing, Shoes &amp; Jewelry</td>\n",
       "      <td>0</td>\n",
       "      <td>1503384</td>\n",
       "      <td>0</td>\n",
       "      <td>225</td>\n",
       "      <td>['Clothing, Shoes &amp; Jewelry']</td>\n",
       "      <td>[5, 6, 231, 237, 379, 992, 1538, 1646, 1647, 1...</td>\n",
       "      <td>0</td>\n",
       "      <td>[]</td>\n",
       "    </tr>\n",
       "    <tr>\n",
       "      <td>5</td>\n",
       "      <td>5</td>\n",
       "      <td>Girls</td>\n",
       "      <td>19160</td>\n",
       "      <td>78291</td>\n",
       "      <td>4</td>\n",
       "      <td>6</td>\n",
       "      <td>['Clothing, Shoes &amp; Jewelry', 'Girls']</td>\n",
       "      <td>[16, 5066, 8274, 9832, 9842, 11014]</td>\n",
       "      <td>995</td>\n",
       "      <td>[(1538, 7675), (2161, 3164), (231, 2244), (503...</td>\n",
       "    </tr>\n",
       "    <tr>\n",
       "      <td>6</td>\n",
       "      <td>6</td>\n",
       "      <td>Novelty, Costumes &amp; More</td>\n",
       "      <td>922</td>\n",
       "      <td>466352</td>\n",
       "      <td>4</td>\n",
       "      <td>12</td>\n",
       "      <td>['Clothing, Shoes &amp; Jewelry', 'Novelty, Costum...</td>\n",
       "      <td>[7, 74, 235, 391, 503, 1986, 2359, 3960, 6768,...</td>\n",
       "      <td>60</td>\n",
       "      <td>[(9857, 179), (231, 108), (237, 36), (5, 28), ...</td>\n",
       "    </tr>\n",
       "    <tr>\n",
       "      <td>7</td>\n",
       "      <td>7</td>\n",
       "      <td>Costumes &amp; Accessories</td>\n",
       "      <td>5945</td>\n",
       "      <td>50542</td>\n",
       "      <td>6</td>\n",
       "      <td>6</td>\n",
       "      <td>['Clothing, Shoes &amp; Jewelry', 'Novelty, Costum...</td>\n",
       "      <td>[8, 558, 946, 2068, 3488, 12339]</td>\n",
       "      <td>323</td>\n",
       "      <td>[(3456, 2064), (236, 846), (2359, 697), (231, ...</td>\n",
       "    </tr>\n",
       "    <tr>\n",
       "      <td>8</td>\n",
       "      <td>8</td>\n",
       "      <td>More Accessories</td>\n",
       "      <td>3297</td>\n",
       "      <td>8647</td>\n",
       "      <td>7</td>\n",
       "      <td>3</td>\n",
       "      <td>['Clothing, Shoes &amp; Jewelry', 'Novelty, Costum...</td>\n",
       "      <td>[9, 8357, 10892]</td>\n",
       "      <td>99</td>\n",
       "      <td>[(236, 472), (5, 213), (1538, 194), (211, 58),...</td>\n",
       "    </tr>\n",
       "    <tr>\n",
       "      <td>9</td>\n",
       "      <td>9</td>\n",
       "      <td>Kids &amp; Baby</td>\n",
       "      <td>2249</td>\n",
       "      <td>2249</td>\n",
       "      <td>8</td>\n",
       "      <td>0</td>\n",
       "      <td>['Clothing, Shoes &amp; Jewelry', 'Novelty, Costum...</td>\n",
       "      <td>[]</td>\n",
       "      <td>24</td>\n",
       "      <td>[(5, 348), (1538, 204), (236, 71), (949, 18), ...</td>\n",
       "    </tr>\n",
       "  </tbody>\n",
       "</table>\n",
       "</div>"
      ],
      "text/plain": [
       "   id                       name  productCount  subtreeProductCount  parent  \\\n",
       "0   0                       root             0              9354832       0   \n",
       "1   1                      Books       1940253              2370585       0   \n",
       "2   2                Movies & TV          1251               208321       0   \n",
       "3   3                     Movies        142126               142126       2   \n",
       "4   4  Clothing, Shoes & Jewelry             0              1503384       0   \n",
       "5   5                      Girls         19160                78291       4   \n",
       "6   6   Novelty, Costumes & More           922               466352       4   \n",
       "7   7     Costumes & Accessories          5945                50542       6   \n",
       "8   8           More Accessories          3297                 8647       7   \n",
       "9   9                Kids & Baby          2249                 2249       8   \n",
       "\n",
       "   numChildren                                           pathName  \\\n",
       "0           85                                                 []   \n",
       "1           32                                          ['Books']   \n",
       "2            2                                    ['Movies & TV']   \n",
       "3            0                          ['Movies & TV', 'Movies']   \n",
       "4          225                      ['Clothing, Shoes & Jewelry']   \n",
       "5            6             ['Clothing, Shoes & Jewelry', 'Girls']   \n",
       "6           12  ['Clothing, Shoes & Jewelry', 'Novelty, Costum...   \n",
       "7            6  ['Clothing, Shoes & Jewelry', 'Novelty, Costum...   \n",
       "8            3  ['Clothing, Shoes & Jewelry', 'Novelty, Costum...   \n",
       "9            0  ['Clothing, Shoes & Jewelry', 'Novelty, Costum...   \n",
       "\n",
       "                                            children  alsoCount  \\\n",
       "0  [1, 2, 4, 10, 19, 22, 30, 34, 41, 44, 55, 60, ...          0   \n",
       "1  [45, 49, 52, 111, 118, 123, 134, 142, 155, 185...          0   \n",
       "2                                            [3, 27]          0   \n",
       "3                                                 []        428   \n",
       "4  [5, 6, 231, 237, 379, 992, 1538, 1646, 1647, 1...          0   \n",
       "5                [16, 5066, 8274, 9832, 9842, 11014]        995   \n",
       "6  [7, 74, 235, 391, 503, 1986, 2359, 3960, 6768,...         60   \n",
       "7                   [8, 558, 946, 2068, 3488, 12339]        323   \n",
       "8                                   [9, 8357, 10892]         99   \n",
       "9                                                 []         24   \n",
       "\n",
       "                                                also  \n",
       "0                                                 []  \n",
       "1                                                 []  \n",
       "2                                                 []  \n",
       "3  [(27, 591), (28, 552), (164, 526), (294, 341),...  \n",
       "4                                                 []  \n",
       "5  [(1538, 7675), (2161, 3164), (231, 2244), (503...  \n",
       "6  [(9857, 179), (231, 108), (237, 36), (5, 28), ...  \n",
       "7  [(3456, 2064), (236, 846), (2359, 697), (231, ...  \n",
       "8  [(236, 472), (5, 213), (1538, 194), (211, 58),...  \n",
       "9  [(5, 348), (1538, 204), (236, 71), (949, 18), ...  "
      ]
     },
     "execution_count": 5,
     "metadata": {},
     "output_type": "execute_result"
    }
   ],
   "source": [
    "data_csv.head(10)"
   ]
  },
  {
   "cell_type": "code",
   "execution_count": 4,
   "metadata": {},
   "outputs": [
    {
     "data": {
      "text/plain": [
       "(29241, 10)"
      ]
     },
     "execution_count": 4,
     "metadata": {},
     "output_type": "execute_result"
    }
   ],
   "source": [
    "data_csv.shape"
   ]
  },
  {
   "cell_type": "markdown",
   "metadata": {},
   "source": [
    "## Name"
   ]
  },
  {
   "cell_type": "code",
   "execution_count": 18,
   "metadata": {},
   "outputs": [
    {
     "data": {
      "text/plain": [
       "18369"
      ]
     },
     "execution_count": 18,
     "metadata": {},
     "output_type": "execute_result"
    }
   ],
   "source": [
    "len(data_csv.name.unique())"
   ]
  },
  {
   "cell_type": "code",
   "execution_count": 24,
   "metadata": {},
   "outputs": [
    {
     "data": {
      "text/plain": [
       "<matplotlib.axes._subplots.AxesSubplot at 0x121491978>"
      ]
     },
     "execution_count": 24,
     "metadata": {},
     "output_type": "execute_result"
    },
    {
     "data": {
      "image/png": "[encoded data removed]",
      "text/plain": [
       "<Figure size 864x432 with 1 Axes>"
      ]
     },
     "metadata": {
      "needs_background": "light"
     },
     "output_type": "display_data"
    }
   ],
   "source": [
    "np.log(pd.value_counts(data_csv.name)).plot(figsize=(12,6))"
   ]
  },
  {
   "cell_type": "code",
   "execution_count": 19,
   "metadata": {},
   "outputs": [
    {
     "data": {
      "text/plain": [
       "<matplotlib.axes._subplots.AxesSubplot at 0x12208f4e0>"
      ]
     },
     "execution_count": 19,
     "metadata": {},
     "output_type": "execute_result"
    },
    {
     "data": {
      "image/png": "[encoded data removed]",
      "text/plain": [
       "<Figure size 720x864 with 1 Axes>"
      ]
     },
     "metadata": {
      "needs_background": "light"
     },
     "output_type": "display_data"
    }
   ],
   "source": [
    "pd.value_counts(data_csv.name)[:60].plot.barh(figsize=(10,12))"
   ]
  },
  {
   "cell_type": "markdown",
   "metadata": {},
   "source": [
    "## Children"
   ]
  },
  {
   "cell_type": "code",
   "execution_count": 34,
   "metadata": {},
   "outputs": [
    {
     "data": {
      "text/plain": [
       "array([225,  90,  85,  80,  78,  73,  73,  65,  61,  54,  54,  54,  53,\n",
       "        49,  48,  47,  46,  42,  41,  40,  40,  39,  38,  38,  38,  38,\n",
       "        37,  37,  37,  36])"
      ]
     },
     "execution_count": 34,
     "metadata": {},
     "output_type": "execute_result"
    }
   ],
   "source": [
    "np.sort(data_csv.numChildren)[::-1][:30]"
   ]
  },
  {
   "cell_type": "markdown",
   "metadata": {},
   "source": [
    "## Path"
   ]
  },
  {
   "cell_type": "code",
   "execution_count": 35,
   "metadata": {},
   "outputs": [
    {
     "data": {
      "text/plain": [
       "29241"
      ]
     },
     "execution_count": 35,
     "metadata": {},
     "output_type": "execute_result"
    }
   ],
   "source": [
    "len(data_csv.pathName.unique())"
   ]
  },
  {
   "cell_type": "code",
   "execution_count": 36,
   "metadata": {},
   "outputs": [
    {
     "data": {
      "text/plain": [
       "array([197, 196, 195, 194, 194, 194, 189, 189, 188, 188])"
      ]
     },
     "execution_count": 36,
     "metadata": {},
     "output_type": "execute_result"
    }
   ],
   "source": [
    "path_lengths = [len(p) for p in data_csv.pathName]\n",
    "np.sort(path_lengths)[::-1][:10]"
   ]
  },
  {
   "cell_type": "code",
   "execution_count": 39,
   "metadata": {},
   "outputs": [
    {
     "data": {
      "text/plain": [
       "(array([   9.,   18.,   70.,  143.,  288.,  548., 1401., 1436., 1932.,\n",
       "        2061., 2786., 2726., 3218., 2519., 2629., 1879., 1728., 1218.,\n",
       "         923.,  593.,  431.,  202.,  169.,   81.,   80.,   53.,   65.,\n",
       "          19.,   10.,    6.]),\n",
       " array([  2. ,   8.5,  15. ,  21.5,  28. ,  34.5,  41. ,  47.5,  54. ,\n",
       "         60.5,  67. ,  73.5,  80. ,  86.5,  93. ,  99.5, 106. , 112.5,\n",
       "        119. , 125.5, 132. , 138.5, 145. , 151.5, 158. , 164.5, 171. ,\n",
       "        177.5, 184. , 190.5, 197. ]),\n",
       " <a list of 30 Patch objects>)"
      ]
     },
     "execution_count": 39,
     "metadata": {},
     "output_type": "execute_result"
    },
    {
     "data": {
      "image/png": "[encoded data removed]",
      "text/plain": [
       "<Figure size 432x288 with 1 Axes>"
      ]
     },
     "metadata": {
      "needs_background": "light"
     },
     "output_type": "display_data"
    }
   ],
   "source": [
    "plt.hist(path_lengths,bins=30)"
   ]
  },
  {
   "cell_type": "markdown",
   "metadata": {},
   "source": [
    "-------"
   ]
  },
  {
   "cell_type": "code",
   "execution_count": 40,
   "metadata": {},
   "outputs": [
    {
     "data": {
      "text/html": [
       "<div>\n",
       "<style scoped>\n",
       "    .dataframe tbody tr th:only-of-type {\n",
       "        vertical-align: middle;\n",
       "    }\n",
       "\n",
       "    .dataframe tbody tr th {\n",
       "        vertical-align: top;\n",
       "    }\n",
       "\n",
       "    .dataframe thead th {\n",
       "        text-align: right;\n",
       "    }\n",
       "</style>\n",
       "<table border=\"1\" class=\"dataframe\">\n",
       "  <thead>\n",
       "    <tr style=\"text-align: right;\">\n",
       "      <th></th>\n",
       "      <th>id</th>\n",
       "      <th>name</th>\n",
       "      <th>productCount</th>\n",
       "      <th>subtreeProductCount</th>\n",
       "      <th>parent</th>\n",
       "      <th>numChildren</th>\n",
       "      <th>pathName</th>\n",
       "      <th>children</th>\n",
       "      <th>alsoCount</th>\n",
       "      <th>also</th>\n",
       "    </tr>\n",
       "  </thead>\n",
       "  <tbody>\n",
       "    <tr>\n",
       "      <td>1538</td>\n",
       "      <td>1538</td>\n",
       "      <td>Boys</td>\n",
       "      <td>16768</td>\n",
       "      <td>60338</td>\n",
       "      <td>4</td>\n",
       "      <td>6</td>\n",
       "      <td>['Clothing, Shoes &amp; Jewelry', 'Boys']</td>\n",
       "      <td>[2194, 8193, 8227, 9190, 12478, 16177]</td>\n",
       "      <td>837</td>\n",
       "      <td>[(5, 7675), (2161, 3991), (12441, 1840), (3441...</td>\n",
       "    </tr>\n",
       "  </tbody>\n",
       "</table>\n",
       "</div>"
      ],
      "text/plain": [
       "        id  name  productCount  subtreeProductCount  parent  numChildren  \\\n",
       "1538  1538  Boys         16768                60338       4            6   \n",
       "\n",
       "                                   pathName  \\\n",
       "1538  ['Clothing, Shoes & Jewelry', 'Boys']   \n",
       "\n",
       "                                    children  alsoCount  \\\n",
       "1538  [2194, 8193, 8227, 9190, 12478, 16177]        837   \n",
       "\n",
       "                                                   also  \n",
       "1538  [(5, 7675), (2161, 3991), (12441, 1840), (3441...  "
      ]
     },
     "execution_count": 40,
     "metadata": {},
     "output_type": "execute_result"
    }
   ],
   "source": [
    "data_csv.loc[data_csv.id == 1538,:]"
   ]
  },
  {
   "cell_type": "code",
   "execution_count": 41,
   "metadata": {},
   "outputs": [
    {
     "data": {
      "text/html": [
       "<div>\n",
       "<style scoped>\n",
       "    .dataframe tbody tr th:only-of-type {\n",
       "        vertical-align: middle;\n",
       "    }\n",
       "\n",
       "    .dataframe tbody tr th {\n",
       "        vertical-align: top;\n",
       "    }\n",
       "\n",
       "    .dataframe thead th {\n",
       "        text-align: right;\n",
       "    }\n",
       "</style>\n",
       "<table border=\"1\" class=\"dataframe\">\n",
       "  <thead>\n",
       "    <tr style=\"text-align: right;\">\n",
       "      <th></th>\n",
       "      <th>id</th>\n",
       "      <th>name</th>\n",
       "      <th>productCount</th>\n",
       "      <th>subtreeProductCount</th>\n",
       "      <th>parent</th>\n",
       "      <th>numChildren</th>\n",
       "      <th>pathName</th>\n",
       "      <th>children</th>\n",
       "      <th>alsoCount</th>\n",
       "      <th>also</th>\n",
       "    </tr>\n",
       "  </thead>\n",
       "  <tbody>\n",
       "    <tr>\n",
       "      <td>837</td>\n",
       "      <td>837</td>\n",
       "      <td>Round Ring Binders</td>\n",
       "      <td>431</td>\n",
       "      <td>431</td>\n",
       "      <td>836</td>\n",
       "      <td>0</td>\n",
       "      <td>['Office Products', 'Office &amp; School Supplies'...</td>\n",
       "      <td>[]</td>\n",
       "      <td>2</td>\n",
       "      <td>[(1261, 1), (4891, 1)]</td>\n",
       "    </tr>\n",
       "  </tbody>\n",
       "</table>\n",
       "</div>"
      ],
      "text/plain": [
       "      id                name  productCount  subtreeProductCount  parent  \\\n",
       "837  837  Round Ring Binders           431                  431     836   \n",
       "\n",
       "     numChildren                                           pathName children  \\\n",
       "837            0  ['Office Products', 'Office & School Supplies'...       []   \n",
       "\n",
       "     alsoCount                    also  \n",
       "837          2  [(1261, 1), (4891, 1)]  "
      ]
     },
     "execution_count": 41,
     "metadata": {},
     "output_type": "execute_result"
    }
   ],
   "source": [
    "data_csv.loc[data_csv.id == 837,:]"
   ]
  },
  {
   "cell_type": "code",
   "execution_count": 80,
   "metadata": {},
   "outputs": [
    {
     "data": {
      "text/plain": [
       "109"
      ]
     },
     "execution_count": 80,
     "metadata": {},
     "output_type": "execute_result"
    }
   ],
   "source": [
    "len(data_csv.loc[data_csv.id == 837,'pathName'].values[0])"
   ]
  },
  {
   "cell_type": "code",
   "execution_count": 58,
   "metadata": {},
   "outputs": [
    {
     "data": {
      "text/plain": [
       "0    [1, 2, 4, 10, 19, 22, 30, 34, 41, 44, 55, 60, ...\n",
       "1    [45, 49, 52, 111, 118, 123, 134, 142, 155, 185...\n",
       "2                                              [3, 27]\n",
       "3                                                   []\n",
       "4    [5, 6, 231, 237, 379, 992, 1538, 1646, 1647, 1...\n",
       "5                  [16, 5066, 8274, 9832, 9842, 11014]\n",
       "6    [7, 74, 235, 391, 503, 1986, 2359, 3960, 6768,...\n",
       "7                     [8, 558, 946, 2068, 3488, 12339]\n",
       "8                                     [9, 8357, 10892]\n",
       "9                                                   []\n",
       "Name: children, dtype: object"
      ]
     },
     "execution_count": 58,
     "metadata": {},
     "output_type": "execute_result"
    }
   ],
   "source": [
    "data_csv.children.loc[data_csv.id < 10]"
   ]
  },
  {
   "cell_type": "code",
   "execution_count": 72,
   "metadata": {},
   "outputs": [],
   "source": [
    "children_counts = [len(data_csv.children.loc[data_csv.id ==i].values[0]) for i in data_csv.id]\n",
    "children_counts = np.array(children_counts)"
   ]
  },
  {
   "cell_type": "code",
   "execution_count": 73,
   "metadata": {},
   "outputs": [
    {
     "data": {
      "text/plain": [
       "(array([2.433e+04, 0.000e+00, 0.000e+00, 0.000e+00, 0.000e+00, 0.000e+00,\n",
       "        1.100e+01, 0.000e+00, 9.600e+01, 2.250e+02, 0.000e+00, 0.000e+00,\n",
       "        3.300e+01, 2.490e+02, 7.040e+02, 1.000e+01, 1.590e+02, 6.580e+02,\n",
       "        1.060e+02, 5.370e+02, 1.420e+02, 3.030e+02, 1.580e+02, 2.610e+02,\n",
       "        2.440e+02, 2.160e+02, 1.850e+02, 1.260e+02, 1.260e+02, 9.200e+01,\n",
       "        7.800e+01, 5.000e+01, 4.900e+01, 2.500e+01, 2.600e+01, 1.100e+01,\n",
       "        9.000e+00, 5.000e+00, 4.000e+00, 4.000e+00, 2.000e+00, 3.000e+00,\n",
       "        2.000e+00, 1.000e+00, 0.000e+00, 0.000e+00, 0.000e+00, 0.000e+00,\n",
       "        0.000e+00, 1.000e+00]),\n",
       " array([0.69314718, 0.82522606, 0.95730493, 1.08938381, 1.22146269,\n",
       "        1.35354156, 1.48562044, 1.61769932, 1.74977819, 1.88185707,\n",
       "        2.01393595, 2.14601482, 2.2780937 , 2.41017257, 2.54225145,\n",
       "        2.67433033, 2.8064092 , 2.93848808, 3.07056696, 3.20264583,\n",
       "        3.33472471, 3.46680359, 3.59888246, 3.73096134, 3.86304022,\n",
       "        3.99511909, 4.12719797, 4.25927685, 4.39135572, 4.5234346 ,\n",
       "        4.65551348, 4.78759235, 4.91967123, 5.0517501 , 5.18382898,\n",
       "        5.31590786, 5.44798673, 5.58006561, 5.71214449, 5.84422336,\n",
       "        5.97630224, 6.10838112, 6.24045999, 6.37253887, 6.50461775,\n",
       "        6.63669662, 6.7687755 , 6.90085438, 7.03293325, 7.16501213,\n",
       "        7.29709101]),\n",
       " <a list of 50 Patch objects>)"
      ]
     },
     "execution_count": 73,
     "metadata": {},
     "output_type": "execute_result"
    },
    {
     "data": {
      "image/png": "[encoded data removed]",
      "text/plain": [
       "<Figure size 432x288 with 1 Axes>"
      ]
     },
     "metadata": {
      "needs_background": "light"
     },
     "output_type": "display_data"
    }
   ],
   "source": [
    "plt.hist(np.log(children_counts),bins=50)"
   ]
  },
  {
   "cell_type": "code",
   "execution_count": 78,
   "metadata": {},
   "outputs": [
    {
     "data": {
      "text/plain": [
       "(array([3.022e+03, 1.148e+03, 3.820e+02, 1.750e+02, 8.100e+01, 3.700e+01,\n",
       "        2.800e+01, 7.000e+00, 1.000e+01, 4.000e+00, 2.000e+00, 2.000e+00,\n",
       "        4.000e+00, 0.000e+00, 2.000e+00, 0.000e+00, 1.000e+00, 2.000e+00,\n",
       "        2.000e+00, 0.000e+00, 1.000e+00, 0.000e+00, 0.000e+00, 0.000e+00,\n",
       "        0.000e+00, 0.000e+00, 0.000e+00, 0.000e+00, 0.000e+00, 0.000e+00,\n",
       "        0.000e+00, 0.000e+00, 0.000e+00, 0.000e+00, 0.000e+00, 0.000e+00,\n",
       "        0.000e+00, 0.000e+00, 0.000e+00, 0.000e+00, 0.000e+00, 0.000e+00,\n",
       "        0.000e+00, 0.000e+00, 0.000e+00, 0.000e+00, 0.000e+00, 0.000e+00,\n",
       "        0.000e+00, 1.000e+00]),\n",
       " array([   5.  ,   34.42,   63.84,   93.26,  122.68,  152.1 ,  181.52,\n",
       "         210.94,  240.36,  269.78,  299.2 ,  328.62,  358.04,  387.46,\n",
       "         416.88,  446.3 ,  475.72,  505.14,  534.56,  563.98,  593.4 ,\n",
       "         622.82,  652.24,  681.66,  711.08,  740.5 ,  769.92,  799.34,\n",
       "         828.76,  858.18,  887.6 ,  917.02,  946.44,  975.86, 1005.28,\n",
       "        1034.7 , 1064.12, 1093.54, 1122.96, 1152.38, 1181.8 , 1211.22,\n",
       "        1240.64, 1270.06, 1299.48, 1328.9 , 1358.32, 1387.74, 1417.16,\n",
       "        1446.58, 1476.  ]),\n",
       " <a list of 50 Patch objects>)"
      ]
     },
     "execution_count": 78,
     "metadata": {},
     "output_type": "execute_result"
    },
    {
     "data": {
      "image/png": "[encoded data removed]",
      "text/plain": [
       "<Figure size 432x288 with 1 Axes>"
      ]
     },
     "metadata": {
      "needs_background": "light"
     },
     "output_type": "display_data"
    }
   ],
   "source": [
    "plt.hist(children_counts[children_counts > 2],bins=50)"
   ]
  },
  {
   "cell_type": "markdown",
   "metadata": {},
   "source": [
    "## Alsos"
   ]
  },
  {
   "cell_type": "code",
   "execution_count": 81,
   "metadata": {},
   "outputs": [
    {
     "data": {
      "text/html": [
       "<div>\n",
       "<style scoped>\n",
       "    .dataframe tbody tr th:only-of-type {\n",
       "        vertical-align: middle;\n",
       "    }\n",
       "\n",
       "    .dataframe tbody tr th {\n",
       "        vertical-align: top;\n",
       "    }\n",
       "\n",
       "    .dataframe thead th {\n",
       "        text-align: right;\n",
       "    }\n",
       "</style>\n",
       "<table border=\"1\" class=\"dataframe\">\n",
       "  <thead>\n",
       "    <tr style=\"text-align: right;\">\n",
       "      <th></th>\n",
       "      <th>id</th>\n",
       "      <th>name</th>\n",
       "      <th>productCount</th>\n",
       "      <th>subtreeProductCount</th>\n",
       "      <th>parent</th>\n",
       "      <th>numChildren</th>\n",
       "      <th>pathName</th>\n",
       "      <th>children</th>\n",
       "      <th>alsoCount</th>\n",
       "      <th>also</th>\n",
       "    </tr>\n",
       "  </thead>\n",
       "  <tbody>\n",
       "    <tr>\n",
       "      <td>0</td>\n",
       "      <td>0</td>\n",
       "      <td>root</td>\n",
       "      <td>0</td>\n",
       "      <td>9354832</td>\n",
       "      <td>0</td>\n",
       "      <td>85</td>\n",
       "      <td>[]</td>\n",
       "      <td>[1, 2, 4, 10, 19, 22, 30, 34, 41, 44, 55, 60, ...</td>\n",
       "      <td>0</td>\n",
       "      <td>[]</td>\n",
       "    </tr>\n",
       "    <tr>\n",
       "      <td>1</td>\n",
       "      <td>1</td>\n",
       "      <td>Books</td>\n",
       "      <td>1940253</td>\n",
       "      <td>2370585</td>\n",
       "      <td>0</td>\n",
       "      <td>32</td>\n",
       "      <td>['Books']</td>\n",
       "      <td>[45, 49, 52, 111, 118, 123, 134, 142, 155, 185...</td>\n",
       "      <td>0</td>\n",
       "      <td>[]</td>\n",
       "    </tr>\n",
       "    <tr>\n",
       "      <td>2</td>\n",
       "      <td>2</td>\n",
       "      <td>Movies &amp; TV</td>\n",
       "      <td>1251</td>\n",
       "      <td>208321</td>\n",
       "      <td>0</td>\n",
       "      <td>2</td>\n",
       "      <td>['Movies &amp; TV']</td>\n",
       "      <td>[3, 27]</td>\n",
       "      <td>0</td>\n",
       "      <td>[]</td>\n",
       "    </tr>\n",
       "    <tr>\n",
       "      <td>3</td>\n",
       "      <td>3</td>\n",
       "      <td>Movies</td>\n",
       "      <td>142126</td>\n",
       "      <td>142126</td>\n",
       "      <td>2</td>\n",
       "      <td>0</td>\n",
       "      <td>['Movies &amp; TV', 'Movies']</td>\n",
       "      <td>[]</td>\n",
       "      <td>428</td>\n",
       "      <td>[(27, 591), (28, 552), (164, 526), (294, 341),...</td>\n",
       "    </tr>\n",
       "    <tr>\n",
       "      <td>4</td>\n",
       "      <td>4</td>\n",
       "      <td>Clothing, Shoes &amp; Jewelry</td>\n",
       "      <td>0</td>\n",
       "      <td>1503384</td>\n",
       "      <td>0</td>\n",
       "      <td>225</td>\n",
       "      <td>['Clothing, Shoes &amp; Jewelry']</td>\n",
       "      <td>[5, 6, 231, 237, 379, 992, 1538, 1646, 1647, 1...</td>\n",
       "      <td>0</td>\n",
       "      <td>[]</td>\n",
       "    </tr>\n",
       "  </tbody>\n",
       "</table>\n",
       "</div>"
      ],
      "text/plain": [
       "   id                       name  productCount  subtreeProductCount  parent  \\\n",
       "0   0                       root             0              9354832       0   \n",
       "1   1                      Books       1940253              2370585       0   \n",
       "2   2                Movies & TV          1251               208321       0   \n",
       "3   3                     Movies        142126               142126       2   \n",
       "4   4  Clothing, Shoes & Jewelry             0              1503384       0   \n",
       "\n",
       "   numChildren                       pathName  \\\n",
       "0           85                             []   \n",
       "1           32                      ['Books']   \n",
       "2            2                ['Movies & TV']   \n",
       "3            0      ['Movies & TV', 'Movies']   \n",
       "4          225  ['Clothing, Shoes & Jewelry']   \n",
       "\n",
       "                                            children  alsoCount  \\\n",
       "0  [1, 2, 4, 10, 19, 22, 30, 34, 41, 44, 55, 60, ...          0   \n",
       "1  [45, 49, 52, 111, 118, 123, 134, 142, 155, 185...          0   \n",
       "2                                            [3, 27]          0   \n",
       "3                                                 []        428   \n",
       "4  [5, 6, 231, 237, 379, 992, 1538, 1646, 1647, 1...          0   \n",
       "\n",
       "                                                also  \n",
       "0                                                 []  \n",
       "1                                                 []  \n",
       "2                                                 []  \n",
       "3  [(27, 591), (28, 552), (164, 526), (294, 341),...  \n",
       "4                                                 []  "
      ]
     },
     "execution_count": 81,
     "metadata": {},
     "output_type": "execute_result"
    }
   ],
   "source": [
    "data_csv.head()"
   ]
  },
  {
   "cell_type": "code",
   "execution_count": 83,
   "metadata": {},
   "outputs": [
    {
     "data": {
      "text/html": [
       "<div>\n",
       "<style scoped>\n",
       "    .dataframe tbody tr th:only-of-type {\n",
       "        vertical-align: middle;\n",
       "    }\n",
       "\n",
       "    .dataframe tbody tr th {\n",
       "        vertical-align: top;\n",
       "    }\n",
       "\n",
       "    .dataframe thead th {\n",
       "        text-align: right;\n",
       "    }\n",
       "</style>\n",
       "<table border=\"1\" class=\"dataframe\">\n",
       "  <thead>\n",
       "    <tr style=\"text-align: right;\">\n",
       "      <th></th>\n",
       "      <th>id</th>\n",
       "      <th>name</th>\n",
       "      <th>productCount</th>\n",
       "      <th>subtreeProductCount</th>\n",
       "      <th>parent</th>\n",
       "      <th>numChildren</th>\n",
       "      <th>pathName</th>\n",
       "      <th>children</th>\n",
       "      <th>alsoCount</th>\n",
       "      <th>also</th>\n",
       "    </tr>\n",
       "  </thead>\n",
       "  <tbody>\n",
       "    <tr>\n",
       "      <td>27</td>\n",
       "      <td>27</td>\n",
       "      <td>TV</td>\n",
       "      <td>65535</td>\n",
       "      <td>65535</td>\n",
       "      <td>2</td>\n",
       "      <td>0</td>\n",
       "      <td>['Movies &amp; TV', 'TV']</td>\n",
       "      <td>[]</td>\n",
       "      <td>484</td>\n",
       "      <td>[(297, 3021), (294, 2942), (164, 1526), (574, ...</td>\n",
       "    </tr>\n",
       "  </tbody>\n",
       "</table>\n",
       "</div>"
      ],
      "text/plain": [
       "    id name  productCount  subtreeProductCount  parent  numChildren  \\\n",
       "27  27   TV         65535                65535       2            0   \n",
       "\n",
       "                 pathName children  alsoCount  \\\n",
       "27  ['Movies & TV', 'TV']       []        484   \n",
       "\n",
       "                                                 also  \n",
       "27  [(297, 3021), (294, 2942), (164, 1526), (574, ...  "
      ]
     },
     "execution_count": 83,
     "metadata": {},
     "output_type": "execute_result"
    }
   ],
   "source": [
    "data_csv.loc[data_csv.id== 27,:]"
   ]
  },
  {
   "cell_type": "code",
   "execution_count": 85,
   "metadata": {},
   "outputs": [
    {
     "data": {
      "text/plain": [
       "['[1, 2, 4, 10, 19, 22, 30, 34, 41, 44, 55, 60, 61, 64, 69, 82, 86, 95, 103, 107, 148, 152, 153, 356, 389, 412, 456, 742, 786, 819, 820, 947, 1316, 1334, 1426, 1674, 1882, 2493, 2551, 3065, 5137, 5284, 5739, 6090, 10159, 13065, 16717, 17257, 17720, 19557, 19566, 19568, 19572, 19574, 19576, 19582, 19585, 19592, 19594, 19601, 19604, 19610, 19618, 19622, 19626, 19636, 19639, 19641, 19648, 19658, 21030, 21361, 26423, 26730, 26851, 27590, 27863, 28279, 28309, 28340, 28341, 28522, 28550, 28913, 29009]']"
      ]
     },
     "execution_count": 85,
     "metadata": {},
     "output_type": "execute_result"
    }
   ],
   "source": [
    "list(data_csv.children.loc[data_csv.id == 0])"
   ]
  },
  {
   "cell_type": "code",
   "execution_count": 90,
   "metadata": {},
   "outputs": [
    {
     "data": {
      "text/plain": [
       "85"
      ]
     },
     "execution_count": 90,
     "metadata": {},
     "output_type": "execute_result"
    }
   ],
   "source": [
    "len(eval((data_csv.children.loc[data_csv.id == 0])[0]))"
   ]
  },
  {
   "cell_type": "code",
   "execution_count": 94,
   "metadata": {},
   "outputs": [
    {
     "data": {
      "text/plain": [
       "29240    ['Kindle Store', 'Kindle eBooks', 'Nonfiction'...\n",
       "Name: pathName, dtype: object"
      ]
     },
     "execution_count": 94,
     "metadata": {},
     "output_type": "execute_result"
    }
   ],
   "source": [
    "data_csv.tail(1).pathName"
   ]
  },
  {
   "cell_type": "markdown",
   "metadata": {},
   "source": [
    "## All Children"
   ]
  },
  {
   "cell_type": "code",
   "execution_count": 119,
   "metadata": {},
   "outputs": [
    {
     "data": {
      "text/plain": [
       "45"
      ]
     },
     "execution_count": 119,
     "metadata": {},
     "output_type": "execute_result"
    }
   ],
   "source": [
    "eval(list(data_csv.children[data_csv.id == 1])[0])[0]"
   ]
  },
  {
   "cell_type": "code",
   "execution_count": 123,
   "metadata": {},
   "outputs": [
    {
     "name": "stdout",
     "output_type": "stream",
     "text": [
      "1\n",
      "45\n",
      "46\n",
      "47\n",
      "48\n"
     ]
    }
   ],
   "source": [
    "def all_children(id):\n",
    "    while id != None:\n",
    "        print(id)\n",
    "        children = eval(list(data_csv.children[data_csv.id == id])[0])\n",
    "        if len(children) > 0:\n",
    "            id = children[0]\n",
    "        else:\n",
    "            break\n",
    "            \n",
    "all_children(1)"
   ]
  },
  {
   "cell_type": "code",
   "execution_count": 129,
   "metadata": {},
   "outputs": [
    {
     "data": {
      "text/html": [
       "<div>\n",
       "<style scoped>\n",
       "    .dataframe tbody tr th:only-of-type {\n",
       "        vertical-align: middle;\n",
       "    }\n",
       "\n",
       "    .dataframe tbody tr th {\n",
       "        vertical-align: top;\n",
       "    }\n",
       "\n",
       "    .dataframe thead th {\n",
       "        text-align: right;\n",
       "    }\n",
       "</style>\n",
       "<table border=\"1\" class=\"dataframe\">\n",
       "  <thead>\n",
       "    <tr style=\"text-align: right;\">\n",
       "      <th></th>\n",
       "      <th>id</th>\n",
       "      <th>name</th>\n",
       "      <th>productCount</th>\n",
       "      <th>subtreeProductCount</th>\n",
       "      <th>parent</th>\n",
       "      <th>numChildren</th>\n",
       "      <th>pathName</th>\n",
       "      <th>children</th>\n",
       "      <th>alsoCount</th>\n",
       "      <th>also</th>\n",
       "    </tr>\n",
       "  </thead>\n",
       "  <tbody>\n",
       "    <tr>\n",
       "      <td>27</td>\n",
       "      <td>27</td>\n",
       "      <td>TV</td>\n",
       "      <td>65535</td>\n",
       "      <td>65535</td>\n",
       "      <td>2</td>\n",
       "      <td>0</td>\n",
       "      <td>['Movies &amp; TV', 'TV']</td>\n",
       "      <td>[]</td>\n",
       "      <td>484</td>\n",
       "      <td>[(297, 3021), (294, 2942), (164, 1526), (574, ...</td>\n",
       "    </tr>\n",
       "  </tbody>\n",
       "</table>\n",
       "</div>"
      ],
      "text/plain": [
       "    id name  productCount  subtreeProductCount  parent  numChildren  \\\n",
       "27  27   TV         65535                65535       2            0   \n",
       "\n",
       "                 pathName children  alsoCount  \\\n",
       "27  ['Movies & TV', 'TV']       []        484   \n",
       "\n",
       "                                                 also  \n",
       "27  [(297, 3021), (294, 2942), (164, 1526), (574, ...  "
      ]
     },
     "execution_count": 129,
     "metadata": {},
     "output_type": "execute_result"
    }
   ],
   "source": [
    "data_csv.loc[data_csv.id == 27]"
   ]
  },
  {
   "cell_type": "code",
   "execution_count": 137,
   "metadata": {},
   "outputs": [
    {
     "data": {
      "text/plain": [
       "2"
      ]
     },
     "execution_count": 137,
     "metadata": {},
     "output_type": "execute_result"
    }
   ],
   "source": [
    "data_csv.parent[data_csv.id == 27].values[0]"
   ]
  },
  {
   "cell_type": "code",
   "execution_count": 148,
   "metadata": {},
   "outputs": [
    {
     "name": "stdout",
     "output_type": "stream",
     "text": [
      "27 TV\n",
      "2 Movies & TV\n",
      "0 root\n"
     ]
    }
   ],
   "source": [
    "def find_all_parent(id):\n",
    "    while id != None:\n",
    "        cat_name = data_csv.name[data_csv.id == id].values[0]\n",
    "        parent_id = data_csv.parent[data_csv.id == id].values[0]\n",
    "        print(id,cat_name)\n",
    "        id = parent_id\n",
    "        if id == 0:\n",
    "            print(id,'root')\n",
    "            break\n",
    "find_all_parent(27)"
   ]
  },
  {
   "cell_type": "code",
   "execution_count": 149,
   "metadata": {},
   "outputs": [],
   "source": [
    "def find_all_hier(cat_name):\n",
    "    all_cat_ids = data_csv.id.loc[data_csv.name == cat_name].values\n",
    "    for cat_id in all_cat_ids:\n",
    "        find_all_parent(cat_id)\n",
    "        print(\"#####\"*20)"
   ]
  },
  {
   "cell_type": "code",
   "execution_count": 150,
   "metadata": {},
   "outputs": [
    {
     "name": "stdout",
     "output_type": "stream",
     "text": [
      "7519 Boots\n",
      "1417 Shoes\n",
      "237 Men\n",
      "4 Clothing, Shoes & Jewelry\n",
      "0 root\n",
      "####################################################################################################\n",
      "7520 Boots\n",
      "7480 Shoes\n",
      "7479 Surf, Skate & Street\n",
      "237 Men\n",
      "4 Clothing, Shoes & Jewelry\n",
      "0 root\n",
      "####################################################################################################\n",
      "8194 Boots\n",
      "8193 Shoes\n",
      "1538 Boys\n",
      "4 Clothing, Shoes & Jewelry\n",
      "0 root\n",
      "####################################################################################################\n",
      "8326 Boots\n",
      "5066 Shoes\n",
      "5 Girls\n",
      "4 Clothing, Shoes & Jewelry\n",
      "0 root\n",
      "####################################################################################################\n",
      "8498 Boots\n",
      "1648 Shoes\n",
      "231 Women\n",
      "4 Clothing, Shoes & Jewelry\n",
      "0 root\n",
      "####################################################################################################\n",
      "9525 Boots\n",
      "2062 Downhill Skiing\n",
      "2061 Skiing\n",
      "2060 Snow Sports\n",
      "10 Sports & Outdoors\n",
      "0 root\n",
      "####################################################################################################\n",
      "9854 Boots\n",
      "6065 Cross-Country Skiing\n",
      "2061 Skiing\n",
      "2060 Snow Sports\n",
      "10 Sports & Outdoors\n",
      "0 root\n",
      "####################################################################################################\n",
      "11146 Boots\n",
      "4084 Clutches & Parts\n",
      "4083 Transmission & Drive Train\n",
      "739 Replacement Parts\n",
      "107 Automotive\n",
      "0 root\n",
      "####################################################################################################\n",
      "11252 Boots\n",
      "11251 Clutches & Parts\n",
      "11162 Drive Train\n",
      "8922 Performance Parts & Accessories\n",
      "107 Automotive\n",
      "0 root\n",
      "####################################################################################################\n",
      "12239 Boots\n",
      "12238 Boots & Wraps\n",
      "4135 Horses\n",
      "356 Pet Supplies\n",
      "0 root\n",
      "####################################################################################################\n",
      "14410 Boots\n",
      "14409 Footwear\n",
      "1680 Protective Gear\n",
      "422 Motorcycle & Powersports\n",
      "107 Automotive\n",
      "0 root\n",
      "####################################################################################################\n",
      "14470 Boots\n",
      "7794 Shoes\n",
      "996 Baby Boys\n",
      "992 Baby\n",
      "4 Clothing, Shoes & Jewelry\n",
      "0 root\n",
      "####################################################################################################\n",
      "14847 Boots\n",
      "7792 Shoes\n",
      "993 Baby Girls\n",
      "992 Baby\n",
      "4 Clothing, Shoes & Jewelry\n",
      "0 root\n",
      "####################################################################################################\n",
      "14919 Boots\n",
      "12540 Telemark Skiing\n",
      "2061 Skiing\n",
      "2060 Snow Sports\n",
      "10 Sports & Outdoors\n",
      "0 root\n",
      "####################################################################################################\n",
      "17842 Boots\n",
      "17190 Motorcycle & ATV Casual Footwear\n",
      "4 Clothing, Shoes & Jewelry\n",
      "0 root\n",
      "####################################################################################################\n",
      "18467 Boots\n",
      "8025 Snowboarding\n",
      "2060 Snow Sports\n",
      "10 Sports & Outdoors\n",
      "0 root\n",
      "####################################################################################################\n",
      "19070 Boots\n",
      "14945 WF Inheritance Test Women's CK Custom Store\n",
      "4 Clothing, Shoes & Jewelry\n",
      "0 root\n",
      "####################################################################################################\n",
      "26798 Boots\n",
      "11333 Boots & Paw Protectors\n",
      "6738 Apparel & Accessories\n",
      "357 Dogs\n",
      "356 Pet Supplies\n",
      "0 root\n",
      "####################################################################################################\n",
      "29174 Boots\n",
      "26721 Alpine Touring\n",
      "2061 Skiing\n",
      "2060 Snow Sports\n",
      "10 Sports & Outdoors\n",
      "0 root\n",
      "####################################################################################################\n"
     ]
    }
   ],
   "source": [
    "find_all_hier(\"Boots\")"
   ]
  }
 ],
 "metadata": {
  "kernelspec": {
   "display_name": "Python 3",
   "language": "python",
   "name": "python3"
  },
  "language_info": {
   "codemirror_mode": {
    "name": "ipython",
    "version": 3
   },
   "file_extension": ".py",
   "mimetype": "text/x-python",
   "name": "python",
   "nbconvert_exporter": "python",
   "pygments_lexer": "ipython3",
   "version": "3.7.3"
  }
 },
 "nbformat": 4,
 "nbformat_minor": 4
}
